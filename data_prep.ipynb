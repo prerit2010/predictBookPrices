{
 "cells": [
  {
   "cell_type": "code",
   "execution_count": 1,
   "metadata": {},
   "outputs": [],
   "source": [
    "# def get_one_hot_new1(data_train, data_test):\n",
    "#     unique_values = list(data_train.unique())\n",
    "#     unique_values = {j:i for i, j in enumerate(unique_values)}\n",
    "#     total_train = []\n",
    "#     total_test = []\n",
    "#     for i in list(data_train):\n",
    "#         val = None\n",
    "#         if i in unique_values:\n",
    "#             val = unique_values[i]\n",
    "#         else:\n",
    "#             val = len(unique_values)\n",
    "#         x = [0] * (len(unique_values)+1)\n",
    "#         x[val] = 1\n",
    "#         total_train.append(x)\n",
    "\n",
    "#     for i in list(data_test):\n",
    "#         val = None\n",
    "#         if i in unique_values:\n",
    "#             val = unique_values[i]\n",
    "#         else:\n",
    "#             val = len(unique_values)\n",
    "#         x = [0] * (len(unique_values)+1)\n",
    "#         x[val] = 1\n",
    "#         total_test.append(x)\n",
    "#     return np.array(total_train), np.array(total_test)\n"
   ]
  },
  {
   "cell_type": "code",
   "execution_count": 2,
   "metadata": {},
   "outputs": [],
   "source": [
    "# genre_train, genre_test = get_one_hot_new1(df_train['Genre'], df_test['Genre'])\n",
    "\n",
    "# book_train, book_test = get_one_hot_new1(df_train['BookCategory'], df_test['BookCategory'])\n",
    "\n",
    "# author_train, author_test = get_one_hot_new1(df_train['Author'], df_test['Author'])\n",
    "\n",
    "# edition_type_train, edition_type_test = get_one_hot_new1(df_train['Edition_type'], df_test['Edition_type'])\n",
    "\n",
    "# edition_year_train, edition_year_test = get_one_hot_new1(df_train['Edition_year'], df_test['Edition_year'])\n",
    "\n",
    "# min_max_scaler = preprocessing.MinMaxScaler()\n",
    "# ratings_train = np.array(min_max_scaler.fit_transform(df_train['Ratings'].values.reshape(len(df_train['Ratings']), 1)))\n",
    "# ratings_test = np.array(min_max_scaler.transform(df_test['Ratings'].values.reshape(len(df_test['Ratings']), 1)))\n",
    "\n",
    "# min_max_scaler = preprocessing.MinMaxScaler()\n",
    "# reviews_train = np.array(min_max_scaler.fit_transform(df_train['Reviews'].values.reshape(len(df_train['Reviews']), 1)))\n",
    "# reviews_test = np.array(min_max_scaler.transform(df_test['Reviews'].values.reshape(len(df_test['Reviews']), 1)))\n",
    "\n",
    "\n",
    "# x_train = np.concatenate((ratings_train, reviews_train, genre_train, book_train, author_train, edition_type_train, edition_year_train, synopsis_train), axis=1)\n",
    "\n",
    "# x_test = np.concatenate((ratings_test, reviews_test, genre_test, book_test, author_test, edition_type_test, edition_year_test, synopsis_test), axis=1)\n"
   ]
  }
 ],
 "metadata": {
  "kernelspec": {
   "display_name": "Python 3",
   "language": "python",
   "name": "python3"
  },
  "language_info": {
   "codemirror_mode": {
    "name": "ipython",
    "version": 3
   },
   "file_extension": ".py",
   "mimetype": "text/x-python",
   "name": "python",
   "nbconvert_exporter": "python",
   "pygments_lexer": "ipython3",
   "version": "3.7.3"
  }
 },
 "nbformat": 4,
 "nbformat_minor": 2
}
